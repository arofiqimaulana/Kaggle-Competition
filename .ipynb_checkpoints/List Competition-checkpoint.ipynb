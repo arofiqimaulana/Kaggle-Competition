{
 "cells": [
  {
   "cell_type": "code",
   "execution_count": 1,
   "metadata": {},
   "outputs": [],
   "source": [
    "import pandas as pd\n",
    "import kaggle\n",
    "import sklearn.datasets as dt\n",
    "import zipfile"
   ]
  },
  {
   "cell_type": "code",
   "execution_count": 2,
   "metadata": {},
   "outputs": [
    {
     "name": "stdout",
     "output_type": "stream",
     "text": [
      "ref                                            deadline             category            reward  teamCount  userHasEntered  \n",
      "---------------------------------------------  -------------------  ---------------  ---------  ---------  --------------  \n",
      "contradictory-my-dear-watson                   2030-07-01 23:59:00  Getting Started     Prizes        196           False  \n",
      "tpu-getting-started                            2030-06-03 23:59:00  Getting Started  Knowledge        362           False  \n",
      "digit-recognizer                               2030-01-01 00:00:00  Getting Started  Knowledge       2755           False  \n",
      "titanic                                        2030-01-01 00:00:00  Getting Started  Knowledge      19978            True  \n",
      "house-prices-advanced-regression-techniques    2030-01-01 00:00:00  Getting Started  Knowledge       5073            True  \n",
      "connectx                                       2030-01-01 00:00:00  Getting Started  Knowledge        765           False  \n",
      "nlp-getting-started                            2030-01-01 00:00:00  Getting Started  Knowledge       1503           False  \n",
      "competitive-data-science-predict-future-sales  2020-12-31 23:59:00  Playground           Kudos       8360           False  \n",
      "osic-pulmonary-fibrosis-progression            2020-10-06 23:59:00  Featured           $55,000       1094           False  \n",
      "landmark-recognition-2020                      2020-09-29 23:59:00  Research           $25,000        377           False  \n",
      "halite                                         2020-09-15 23:59:00  Featured              Swag       1042           False  \n",
      "birdsong-recognition                           2020-09-15 23:59:00  Research           $25,000       1013           False  \n",
      "global-wheat-detection                         2020-08-19 01:59:00  Research           $15,000       2245           False  \n",
      "landmark-retrieval-2020                        2020-08-17 23:59:00  Research           $25,000        541           False  \n",
      "siim-isic-melanoma-classification              2020-08-17 23:59:00  Featured           $30,000       3314           False  \n",
      "open-images-object-detection-rvc-2020          2020-08-14 16:00:00  Playground       Knowledge         89           False  \n",
      "open-images-instance-segmentation-rvc-2020     2020-08-14 16:00:00  Playground       Knowledge         18           False  \n",
      "hashcode-photo-slideshow                       2020-07-27 23:59:00  Playground       Knowledge         89           False  \n",
      "prostate-cancer-grade-assessment               2020-07-22 23:59:00  Featured           $25,000       1010           False  \n",
      "alaska2-image-steganalysis                     2020-07-20 23:59:00  Research           $25,000       1095           False  \n"
     ]
    }
   ],
   "source": [
    "! kaggle competitions list"
   ]
  }
 ],
 "metadata": {
  "kernelspec": {
   "display_name": "Python 3",
   "language": "python",
   "name": "python3"
  },
  "language_info": {
   "codemirror_mode": {
    "name": "ipython",
    "version": 3
   },
   "file_extension": ".py",
   "mimetype": "text/x-python",
   "name": "python",
   "nbconvert_exporter": "python",
   "pygments_lexer": "ipython3",
   "version": "3.7.6"
  }
 },
 "nbformat": 4,
 "nbformat_minor": 4
}
